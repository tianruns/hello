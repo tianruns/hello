{
  "nbformat": 4,
  "nbformat_minor": 0,
  "metadata": {
    "colab": {
      "name": "Copy of Untitled0.ipynb",
      "provenance": [],
      "collapsed_sections": [],
      "authorship_tag": "ABX9TyNE7phP9lnPn2ccw8O+K/Bx",
      "include_colab_link": true
    },
    "kernelspec": {
      "name": "python3",
      "display_name": "Python 3"
    }
  },
  "cells": [
    {
      "cell_type": "markdown",
      "metadata": {
        "id": "view-in-github",
        "colab_type": "text"
      },
      "source": [
        "<a href=\"https://colab.research.google.com/github/tianruns/hello/blob/master/Copy_of_Untitled0.ipynb\" target=\"_parent\"><img src=\"https://colab.research.google.com/assets/colab-badge.svg\" alt=\"Open In Colab\"/></a>"
      ]
    },
    {
      "cell_type": "code",
      "metadata": {
        "id": "nXHOukiMldc3",
        "outputId": "5342082c-cd0e-4677-ba37-60691712f86c",
        "colab": {
          "base_uri": "https://localhost:8080/",
          "height": 34
        }
      },
      "source": [
        "import numpy as np\n",
        "import torch\n",
        "import torch.nn as nn\n",
        "import torch.nn.functional as F\n",
        "from torch.utils.data import TensorDataset, DataLoader\n",
        "\n",
        "\n",
        "class SimpleNet(nn.Module):\n",
        "    # Initialize the layers\n",
        "    def __init__(self):\n",
        "        super().__init__()\n",
        "        self.linear1 = nn.Linear(3, 3)\n",
        "        self.act1 = nn.ReLU() # Activation function\n",
        "        self.linear2 = nn.Linear(3, 2)\n",
        "    \n",
        "    # Perform the computation\n",
        "    def forward(self, x):\n",
        "        x = self.linear1(x)\n",
        "        x = self.act1(x)\n",
        "        x = self.linear2(x)\n",
        "        return x\n",
        "\n",
        "\n",
        "\n",
        "# Input (temp, rainfall, humidity)\n",
        "inputs = np.array([[73, 67, 43], \n",
        "          [91, 88, 64], \n",
        "          [87, 134, 58], \n",
        "          [102, 43, 37], \n",
        "          [69, 96, 70]], dtype='float32')\n",
        "targets = np.array([[56, 70], \n",
        "           [81, 101], \n",
        "           [119, 133], \n",
        "           [22, 37], \n",
        "           [103, 119]], dtype='float32')\n",
        "inputs = torch.from_numpy(inputs)\n",
        "targets = torch.from_numpy(targets)\n",
        "\n",
        "train_ds = TensorDataset(inputs, targets)\n",
        "\n",
        "batch_size = 5\n",
        "train_ld = DataLoader(train_ds, batch_size, shuffle=True)\n",
        "model = SimpleNet()\n",
        "opt = torch.optim.SGD(model.parameters(), 1e-5)\n",
        "loss_fn = F.mse_loss\n",
        "\n",
        "def fit(num_epochs, model, loss_fn, opt):\n",
        "  for epochs in range(num_epochs):\n",
        "    for xb,yb in train_ds:\n",
        "      pred = model(xb)\n",
        "      loss = loss_fn(pred,yb)\n",
        "      loss.backward()\n",
        "      opt.step()\n",
        "      opt.zero_grad()\n",
        "  print('Training loss: ', loss_fn(model(inputs), targets))\n",
        "\n",
        "fit(100,model,loss_fn,opt)\n",
        "\n",
        "  \n",
        "\n",
        "\n",
        "\n"
      ],
      "execution_count": null,
      "outputs": [
        {
          "output_type": "stream",
          "text": [
            "Training loss:  tensor(5.0276, grad_fn=<MseLossBackward>)\n"
          ],
          "name": "stdout"
        }
      ]
    },
    {
      "cell_type": "markdown",
      "metadata": {
        "id": "QDLY7Utv-w7G"
      },
      "source": [
        "# New Section"
      ]
    }
  ]
}